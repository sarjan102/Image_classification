{
 "cells": [
  {
   "cell_type": "code",
   "execution_count": 2,
   "metadata": {
    "execution": {
     "iopub.execute_input": "2023-04-14T18:54:44.435526Z",
     "iopub.status.busy": "2023-04-14T18:54:44.434516Z",
     "iopub.status.idle": "2023-04-14T18:54:52.372199Z",
     "shell.execute_reply": "2023-04-14T18:54:52.371391Z",
     "shell.execute_reply.started": "2023-04-14T18:54:44.435475Z"
    }
   },
   "outputs": [],
   "source": [
    "#importing required libraries\n",
    "import numpy as np \n",
    "import pandas as pd \n",
    "import os\n",
    "import matplotlib.pyplot as plt\n",
    "import cv2\n",
    "\n",
    "from tensorflow.keras.utils import to_categorical\n",
    "from keras.layers import Dense,Conv2D,Flatten,MaxPool2D,Dropout\n",
    "from keras.models import Sequential\n",
    "\n",
    "from sklearn.model_selection import train_test_split\n",
    "\n",
    "np.random.seed(1)"
   ]
  },
  {
   "cell_type": "code",
   "execution_count": 3,
   "metadata": {
    "execution": {
     "iopub.execute_input": "2023-04-14T18:54:52.374156Z",
     "iopub.status.busy": "2023-04-14T18:54:52.373510Z",
     "iopub.status.idle": "2023-04-14T18:54:53.386746Z",
     "shell.execute_reply": "2023-04-14T18:54:53.385830Z",
     "shell.execute_reply.started": "2023-04-14T18:54:52.374122Z"
    }
   },
   "outputs": [],
   "source": [
    "#This code reads in a set of images of a specific celebrity, Kane Williamson, and resizes them to the specified shape of (200,200)\n",
    "kane_images = []\n",
    "kane_labels = []\n",
    "shape = (200,200)  \n",
    "train_path = '../input/sport-celebrity-image-classification/Sports-celebrity images/Kane Williamson'\n",
    "\n",
    "for filename in os.listdir('../input/sport-celebrity-image-classification/Sports-celebrity images/Kane Williamson'):\n",
    "    if filename.split('.')[1] == 'jpg':\n",
    "        img = cv2.imread(os.path.join(train_path,filename))\n",
    "        \n",
    "        kane_labels.append(filename.split('_')[0])\n",
    "        \n",
    "        img = cv2.resize(img,shape)\n",
    "        \n",
    "        kane_images.append(img)\n",
    "\n",
    "kane_images = np.array(kane_images)"
   ]
  },
  {
   "cell_type": "code",
   "execution_count": 4,
   "metadata": {
    "execution": {
     "iopub.execute_input": "2023-04-14T18:54:53.388054Z",
     "iopub.status.busy": "2023-04-14T18:54:53.387825Z",
     "iopub.status.idle": "2023-04-14T18:54:53.396393Z",
     "shell.execute_reply": "2023-04-14T18:54:53.395476Z",
     "shell.execute_reply.started": "2023-04-14T18:54:53.388019Z"
    }
   },
   "outputs": [
    {
     "data": {
      "text/plain": [
       "(119, 200, 200, 3)"
      ]
     },
     "execution_count": 4,
     "metadata": {},
     "output_type": "execute_result"
    }
   ],
   "source": [
    "kane_images.shape"
   ]
  },
  {
   "cell_type": "code",
   "execution_count": 5,
   "metadata": {
    "execution": {
     "iopub.execute_input": "2023-04-14T18:54:53.398839Z",
     "iopub.status.busy": "2023-04-14T18:54:53.398476Z",
     "iopub.status.idle": "2023-04-14T18:54:54.363798Z",
     "shell.execute_reply": "2023-04-14T18:54:54.362935Z",
     "shell.execute_reply.started": "2023-04-14T18:54:53.398806Z"
    }
   },
   "outputs": [],
   "source": [
    "#This code reads in a set of images of a specific celebrity, and resizes them to the specified shape of (200,200)\n",
    "rona_images = []       \n",
    "rona_labels = []\n",
    "shape = (200,200)  \n",
    "train_path = '../input/sport-celebrity-image-classification/Sports-celebrity images/Ronaldo'\n",
    "\n",
    "for filename in os.listdir('../input/sport-celebrity-image-classification/Sports-celebrity images/Ronaldo'):\n",
    "    if filename.split('.')[1] == 'jpg':\n",
    "        img= cv2.imread(os.path.join(train_path,filename))\n",
    "        rona_labels.append(filename.split('_')[0])\n",
    "        img = cv2.resize(img,shape)\n",
    "        rona_images.append(img)\n",
    "\n",
    "rona_images = np.array(rona_images)"
   ]
  },
  {
   "cell_type": "code",
   "execution_count": 6,
   "metadata": {
    "execution": {
     "iopub.execute_input": "2023-04-14T18:54:54.365459Z",
     "iopub.status.busy": "2023-04-14T18:54:54.365194Z",
     "iopub.status.idle": "2023-04-14T18:54:54.372303Z",
     "shell.execute_reply": "2023-04-14T18:54:54.371366Z",
     "shell.execute_reply.started": "2023-04-14T18:54:54.365430Z"
    }
   },
   "outputs": [
    {
     "data": {
      "text/plain": [
       "(109, 200, 200, 3)"
      ]
     },
     "execution_count": 6,
     "metadata": {},
     "output_type": "execute_result"
    }
   ],
   "source": [
    "rona_images.shape"
   ]
  },
  {
   "cell_type": "code",
   "execution_count": 7,
   "metadata": {
    "execution": {
     "iopub.execute_input": "2023-04-14T18:54:54.373998Z",
     "iopub.status.busy": "2023-04-14T18:54:54.373746Z",
     "iopub.status.idle": "2023-04-14T18:54:55.246640Z",
     "shell.execute_reply": "2023-04-14T18:54:55.245924Z",
     "shell.execute_reply.started": "2023-04-14T18:54:54.373968Z"
    }
   },
   "outputs": [],
   "source": [
    "##This code reads in a set of images of a specific celebrity, and resizes them to the specified shape of (200,200)\n",
    "maria_images = []       \n",
    "maria_labels = []\n",
    "shape = (200,200)  \n",
    "train_path = '../input/sport-celebrity-image-classification/Sports-celebrity images/Maria Sharapova'\n",
    "\n",
    "for filename in os.listdir('../input/sport-celebrity-image-classification/Sports-celebrity images/Maria Sharapova'):\n",
    "    if filename.split('.')[1] == 'jpg':\n",
    "        img = cv2.imread(os.path.join(train_path,filename))\n",
    "        maria_labels.append(filename.split('_')[0])\n",
    "        img = cv2.resize(img,shape)\n",
    "        maria_images.append(img)\n",
    "\n",
    "maria_images = np.array(maria_images)"
   ]
  },
  {
   "cell_type": "code",
   "execution_count": 8,
   "metadata": {
    "execution": {
     "iopub.execute_input": "2023-04-14T18:54:55.248262Z",
     "iopub.status.busy": "2023-04-14T18:54:55.247999Z",
     "iopub.status.idle": "2023-04-14T18:54:55.254272Z",
     "shell.execute_reply": "2023-04-14T18:54:55.253386Z",
     "shell.execute_reply.started": "2023-04-14T18:54:55.248230Z"
    }
   },
   "outputs": [
    {
     "data": {
      "text/plain": [
       "(103, 200, 200, 3)"
      ]
     },
     "execution_count": 8,
     "metadata": {},
     "output_type": "execute_result"
    }
   ],
   "source": [
    "maria_images.shape"
   ]
  },
  {
   "cell_type": "code",
   "execution_count": 9,
   "metadata": {
    "execution": {
     "iopub.execute_input": "2023-04-14T18:54:55.256091Z",
     "iopub.status.busy": "2023-04-14T18:54:55.255792Z",
     "iopub.status.idle": "2023-04-14T18:54:56.172488Z",
     "shell.execute_reply": "2023-04-14T18:54:56.171720Z",
     "shell.execute_reply.started": "2023-04-14T18:54:55.256058Z"
    }
   },
   "outputs": [],
   "source": [
    "#This code reads in a set of images of a specific celebrity, and resizes them to the specified shape of (200,200)\n",
    "kobe_images = []       \n",
    "kobe_labels = []\n",
    "shape = (200,200)  \n",
    "train_path = '../input/sport-celebrity-image-classification/Sports-celebrity images/Kobe Bryant'\n",
    "\n",
    "for filename in os.listdir('../input/sport-celebrity-image-classification/Sports-celebrity images/Kobe Bryant'):\n",
    "    if filename.split('.')[1] == 'jpg':\n",
    "        img = cv2.imread(os.path.join(train_path,filename))\n",
    "        kobe_labels.append(filename.split('_')[0])\n",
    "        img = cv2.resize(img,shape)\n",
    "        kobe_images.append(img)\n",
    "\n",
    "kobe_images = np.array(kobe_images)"
   ]
  },
  {
   "cell_type": "code",
   "execution_count": 10,
   "metadata": {
    "execution": {
     "iopub.execute_input": "2023-04-14T18:54:56.173958Z",
     "iopub.status.busy": "2023-04-14T18:54:56.173724Z",
     "iopub.status.idle": "2023-04-14T18:54:56.180050Z",
     "shell.execute_reply": "2023-04-14T18:54:56.179014Z",
     "shell.execute_reply.started": "2023-04-14T18:54:56.173930Z"
    }
   },
   "outputs": [
    {
     "data": {
      "text/plain": [
       "(110, 200, 200, 3)"
      ]
     },
     "execution_count": 10,
     "metadata": {},
     "output_type": "execute_result"
    }
   ],
   "source": [
    "kobe_images.shape"
   ]
  },
  {
   "cell_type": "code",
   "execution_count": 11,
   "metadata": {
    "execution": {
     "iopub.execute_input": "2023-04-14T18:54:56.182978Z",
     "iopub.status.busy": "2023-04-14T18:54:56.182750Z",
     "iopub.status.idle": "2023-04-14T18:54:56.214083Z",
     "shell.execute_reply": "2023-04-14T18:54:56.213141Z",
     "shell.execute_reply.started": "2023-04-14T18:54:56.182951Z"
    }
   },
   "outputs": [],
   "source": [
    "#combine all lables and images\n",
    "all_labels=np.concatenate([kane_labels, rona_labels, maria_labels,kobe_labels])\n",
    "all_images=np.concatenate([kane_images, rona_images, maria_images,kobe_images])"
   ]
  },
  {
   "cell_type": "code",
   "execution_count": 12,
   "metadata": {
    "execution": {
     "iopub.execute_input": "2023-04-14T18:54:56.216045Z",
     "iopub.status.busy": "2023-04-14T18:54:56.215361Z",
     "iopub.status.idle": "2023-04-14T18:54:56.466311Z",
     "shell.execute_reply": "2023-04-14T18:54:56.465451Z",
     "shell.execute_reply.started": "2023-04-14T18:54:56.216010Z"
    }
   },
   "outputs": [
    {
     "name": "stdout",
     "output_type": "stream",
     "text": [
      "Sharapova\n"
     ]
    },
    {
     "data": {
      "text/plain": [
       "<matplotlib.image.AxesImage at 0x74fe4918aa10>"
      ]
     },
     "execution_count": 12,
     "metadata": {},
     "output_type": "execute_result"
    },
    {
     "data": {
      "image/png": "[encoded data removed]",
      "text/plain": [
       "<Figure size 432x288 with 1 Axes>"
      ]
     },
     "metadata": {
      "needs_background": "light"
     },
     "output_type": "display_data"
    }
   ],
   "source": [
    "print(all_labels[300])\n",
    "plt.imshow(all_images[300])"
   ]
  },
  {
   "cell_type": "code",
   "execution_count": 13,
   "metadata": {
    "execution": {
     "iopub.execute_input": "2023-04-14T18:54:56.467671Z",
     "iopub.status.busy": "2023-04-14T18:54:56.467431Z",
     "iopub.status.idle": "2023-04-14T18:54:56.474123Z",
     "shell.execute_reply": "2023-04-14T18:54:56.473132Z",
     "shell.execute_reply.started": "2023-04-14T18:54:56.467643Z"
    }
   },
   "outputs": [
    {
     "data": {
      "text/plain": [
       "(441, 200, 200, 3)"
      ]
     },
     "execution_count": 13,
     "metadata": {},
     "output_type": "execute_result"
    }
   ],
   "source": [
    "all_images.shape"
   ]
  },
  {
   "cell_type": "code",
   "execution_count": 14,
   "metadata": {
    "execution": {
     "iopub.execute_input": "2023-04-14T18:54:56.475861Z",
     "iopub.status.busy": "2023-04-14T18:54:56.475506Z",
     "iopub.status.idle": "2023-04-14T18:54:56.487530Z",
     "shell.execute_reply": "2023-04-14T18:54:56.486582Z",
     "shell.execute_reply.started": "2023-04-14T18:54:56.475832Z"
    }
   },
   "outputs": [
    {
     "data": {
      "text/plain": [
       "(441,)"
      ]
     },
     "execution_count": 14,
     "metadata": {},
     "output_type": "execute_result"
    }
   ],
   "source": [
    "all_labels.shape"
   ]
  },
  {
   "cell_type": "code",
   "execution_count": 15,
   "metadata": {
    "execution": {
     "iopub.execute_input": "2023-04-14T18:54:56.488958Z",
     "iopub.status.busy": "2023-04-14T18:54:56.488737Z",
     "iopub.status.idle": "2023-04-14T18:54:56.498280Z",
     "shell.execute_reply": "2023-04-14T18:54:56.497595Z",
     "shell.execute_reply.started": "2023-04-14T18:54:56.488931Z"
    }
   },
   "outputs": [],
   "source": [
    "#reshape the all images\n",
    "all_images=np.reshape(all_images,(441,-1))"
   ]
  },
  {
   "cell_type": "code",
   "execution_count": 16,
   "metadata": {
    "execution": {
     "iopub.execute_input": "2023-04-14T18:54:56.499414Z",
     "iopub.status.busy": "2023-04-14T18:54:56.499150Z",
     "iopub.status.idle": "2023-04-14T18:54:56.510604Z",
     "shell.execute_reply": "2023-04-14T18:54:56.509904Z",
     "shell.execute_reply.started": "2023-04-14T18:54:56.499386Z"
    }
   },
   "outputs": [],
   "source": [
    "#make dataframe \n",
    "all_images=pd.DataFrame(all_images)"
   ]
  },
  {
   "cell_type": "code",
   "execution_count": 17,
   "metadata": {
    "execution": {
     "iopub.execute_input": "2023-04-14T18:54:56.512308Z",
     "iopub.status.busy": "2023-04-14T18:54:56.511559Z",
     "iopub.status.idle": "2023-04-14T18:54:56.725601Z",
     "shell.execute_reply": "2023-04-14T18:54:56.724525Z",
     "shell.execute_reply.started": "2023-04-14T18:54:56.512265Z"
    }
   },
   "outputs": [
    {
     "data": {
      "text/html": [
       "<div>\n",
       "<style scoped>\n",
       "    .dataframe tbody tr th:only-of-type {\n",
       "        vertical-align: middle;\n",
       "    }\n",
       "\n",
       "    .dataframe tbody tr th {\n",
       "        vertical-align: top;\n",
       "    }\n",
       "\n",
       "    .dataframe thead th {\n",
       "        text-align: right;\n",
       "    }\n",
       "</style>\n",
       "<table border=\"1\" class=\"dataframe\">\n",
       "  <thead>\n",
       "    <tr style=\"text-align: right;\">\n",
       "      <th></th>\n",
       "      <th>0</th>\n",
       "      <th>1</th>\n",
       "      <th>2</th>\n",
       "      <th>3</th>\n",
       "      <th>4</th>\n",
       "      <th>5</th>\n",
       "      <th>6</th>\n",
       "      <th>7</th>\n",
       "      <th>8</th>\n",
       "      <th>9</th>\n",
       "      <th>...</th>\n",
       "      <th>119990</th>\n",
       "      <th>119991</th>\n",
       "      <th>119992</th>\n",
       "      <th>119993</th>\n",
       "      <th>119994</th>\n",
       "      <th>119995</th>\n",
       "      <th>119996</th>\n",
       "      <th>119997</th>\n",
       "      <th>119998</th>\n",
       "      <th>119999</th>\n",
       "    </tr>\n",
       "  </thead>\n",
       "  <tbody>\n",
       "    <tr>\n",
       "      <th>0</th>\n",
       "      <td>238</td>\n",
       "      <td>250</td>\n",
       "      <td>253</td>\n",
       "      <td>238</td>\n",
       "      <td>250</td>\n",
       "      <td>253</td>\n",
       "      <td>238</td>\n",
       "      <td>250</td>\n",
       "      <td>254</td>\n",
       "      <td>238</td>\n",
       "      <td>...</td>\n",
       "      <td>127</td>\n",
       "      <td>78</td>\n",
       "      <td>140</td>\n",
       "      <td>113</td>\n",
       "      <td>75</td>\n",
       "      <td>141</td>\n",
       "      <td>112</td>\n",
       "      <td>82</td>\n",
       "      <td>143</td>\n",
       "      <td>114</td>\n",
       "    </tr>\n",
       "    <tr>\n",
       "      <th>1</th>\n",
       "      <td>79</td>\n",
       "      <td>81</td>\n",
       "      <td>81</td>\n",
       "      <td>80</td>\n",
       "      <td>82</td>\n",
       "      <td>82</td>\n",
       "      <td>81</td>\n",
       "      <td>82</td>\n",
       "      <td>82</td>\n",
       "      <td>80</td>\n",
       "      <td>...</td>\n",
       "      <td>82</td>\n",
       "      <td>88</td>\n",
       "      <td>83</td>\n",
       "      <td>82</td>\n",
       "      <td>88</td>\n",
       "      <td>83</td>\n",
       "      <td>82</td>\n",
       "      <td>86</td>\n",
       "      <td>81</td>\n",
       "      <td>78</td>\n",
       "    </tr>\n",
       "    <tr>\n",
       "      <th>2</th>\n",
       "      <td>4</td>\n",
       "      <td>4</td>\n",
       "      <td>4</td>\n",
       "      <td>4</td>\n",
       "      <td>4</td>\n",
       "      <td>4</td>\n",
       "      <td>4</td>\n",
       "      <td>4</td>\n",
       "      <td>4</td>\n",
       "      <td>4</td>\n",
       "      <td>...</td>\n",
       "      <td>55</td>\n",
       "      <td>32</td>\n",
       "      <td>32</td>\n",
       "      <td>38</td>\n",
       "      <td>10</td>\n",
       "      <td>10</td>\n",
       "      <td>15</td>\n",
       "      <td>2</td>\n",
       "      <td>2</td>\n",
       "      <td>2</td>\n",
       "    </tr>\n",
       "    <tr>\n",
       "      <th>3</th>\n",
       "      <td>74</td>\n",
       "      <td>30</td>\n",
       "      <td>17</td>\n",
       "      <td>74</td>\n",
       "      <td>30</td>\n",
       "      <td>17</td>\n",
       "      <td>74</td>\n",
       "      <td>30</td>\n",
       "      <td>17</td>\n",
       "      <td>75</td>\n",
       "      <td>...</td>\n",
       "      <td>4</td>\n",
       "      <td>0</td>\n",
       "      <td>0</td>\n",
       "      <td>0</td>\n",
       "      <td>1</td>\n",
       "      <td>1</td>\n",
       "      <td>1</td>\n",
       "      <td>3</td>\n",
       "      <td>1</td>\n",
       "      <td>0</td>\n",
       "    </tr>\n",
       "    <tr>\n",
       "      <th>4</th>\n",
       "      <td>255</td>\n",
       "      <td>255</td>\n",
       "      <td>255</td>\n",
       "      <td>255</td>\n",
       "      <td>255</td>\n",
       "      <td>255</td>\n",
       "      <td>255</td>\n",
       "      <td>255</td>\n",
       "      <td>255</td>\n",
       "      <td>255</td>\n",
       "      <td>...</td>\n",
       "      <td>49</td>\n",
       "      <td>13</td>\n",
       "      <td>55</td>\n",
       "      <td>48</td>\n",
       "      <td>12</td>\n",
       "      <td>54</td>\n",
       "      <td>47</td>\n",
       "      <td>14</td>\n",
       "      <td>55</td>\n",
       "      <td>48</td>\n",
       "    </tr>\n",
       "    <tr>\n",
       "      <th>...</th>\n",
       "      <td>...</td>\n",
       "      <td>...</td>\n",
       "      <td>...</td>\n",
       "      <td>...</td>\n",
       "      <td>...</td>\n",
       "      <td>...</td>\n",
       "      <td>...</td>\n",
       "      <td>...</td>\n",
       "      <td>...</td>\n",
       "      <td>...</td>\n",
       "      <td>...</td>\n",
       "      <td>...</td>\n",
       "      <td>...</td>\n",
       "      <td>...</td>\n",
       "      <td>...</td>\n",
       "      <td>...</td>\n",
       "      <td>...</td>\n",
       "      <td>...</td>\n",
       "      <td>...</td>\n",
       "      <td>...</td>\n",
       "      <td>...</td>\n",
       "    </tr>\n",
       "    <tr>\n",
       "      <th>436</th>\n",
       "      <td>2</td>\n",
       "      <td>2</td>\n",
       "      <td>2</td>\n",
       "      <td>2</td>\n",
       "      <td>2</td>\n",
       "      <td>2</td>\n",
       "      <td>2</td>\n",
       "      <td>2</td>\n",
       "      <td>2</td>\n",
       "      <td>1</td>\n",
       "      <td>...</td>\n",
       "      <td>3</td>\n",
       "      <td>3</td>\n",
       "      <td>3</td>\n",
       "      <td>3</td>\n",
       "      <td>3</td>\n",
       "      <td>3</td>\n",
       "      <td>3</td>\n",
       "      <td>4</td>\n",
       "      <td>4</td>\n",
       "      <td>4</td>\n",
       "    </tr>\n",
       "    <tr>\n",
       "      <th>437</th>\n",
       "      <td>23</td>\n",
       "      <td>18</td>\n",
       "      <td>147</td>\n",
       "      <td>26</td>\n",
       "      <td>23</td>\n",
       "      <td>147</td>\n",
       "      <td>26</td>\n",
       "      <td>24</td>\n",
       "      <td>143</td>\n",
       "      <td>21</td>\n",
       "      <td>...</td>\n",
       "      <td>217</td>\n",
       "      <td>178</td>\n",
       "      <td>202</td>\n",
       "      <td>219</td>\n",
       "      <td>175</td>\n",
       "      <td>200</td>\n",
       "      <td>216</td>\n",
       "      <td>174</td>\n",
       "      <td>201</td>\n",
       "      <td>211</td>\n",
       "    </tr>\n",
       "    <tr>\n",
       "      <th>438</th>\n",
       "      <td>10</td>\n",
       "      <td>36</td>\n",
       "      <td>102</td>\n",
       "      <td>13</td>\n",
       "      <td>34</td>\n",
       "      <td>98</td>\n",
       "      <td>17</td>\n",
       "      <td>36</td>\n",
       "      <td>92</td>\n",
       "      <td>17</td>\n",
       "      <td>...</td>\n",
       "      <td>100</td>\n",
       "      <td>53</td>\n",
       "      <td>67</td>\n",
       "      <td>88</td>\n",
       "      <td>53</td>\n",
       "      <td>68</td>\n",
       "      <td>83</td>\n",
       "      <td>52</td>\n",
       "      <td>66</td>\n",
       "      <td>80</td>\n",
       "    </tr>\n",
       "    <tr>\n",
       "      <th>439</th>\n",
       "      <td>5</td>\n",
       "      <td>5</td>\n",
       "      <td>11</td>\n",
       "      <td>6</td>\n",
       "      <td>5</td>\n",
       "      <td>14</td>\n",
       "      <td>10</td>\n",
       "      <td>9</td>\n",
       "      <td>20</td>\n",
       "      <td>20</td>\n",
       "      <td>...</td>\n",
       "      <td>55</td>\n",
       "      <td>21</td>\n",
       "      <td>19</td>\n",
       "      <td>56</td>\n",
       "      <td>14</td>\n",
       "      <td>18</td>\n",
       "      <td>44</td>\n",
       "      <td>12</td>\n",
       "      <td>21</td>\n",
       "      <td>41</td>\n",
       "    </tr>\n",
       "    <tr>\n",
       "      <th>440</th>\n",
       "      <td>20</td>\n",
       "      <td>36</td>\n",
       "      <td>59</td>\n",
       "      <td>21</td>\n",
       "      <td>37</td>\n",
       "      <td>60</td>\n",
       "      <td>11</td>\n",
       "      <td>27</td>\n",
       "      <td>50</td>\n",
       "      <td>14</td>\n",
       "      <td>...</td>\n",
       "      <td>24</td>\n",
       "      <td>14</td>\n",
       "      <td>15</td>\n",
       "      <td>25</td>\n",
       "      <td>12</td>\n",
       "      <td>13</td>\n",
       "      <td>23</td>\n",
       "      <td>11</td>\n",
       "      <td>12</td>\n",
       "      <td>22</td>\n",
       "    </tr>\n",
       "  </tbody>\n",
       "</table>\n",
       "<p>441 rows × 120000 columns</p>\n",
       "</div>"
      ],
      "text/plain": [
       "     0       1       2       3       4       5       6       7       8       \\\n",
       "0       238     250     253     238     250     253     238     250     254   \n",
       "1        79      81      81      80      82      82      81      82      82   \n",
       "2         4       4       4       4       4       4       4       4       4   \n",
       "3        74      30      17      74      30      17      74      30      17   \n",
       "4       255     255     255     255     255     255     255     255     255   \n",
       "..      ...     ...     ...     ...     ...     ...     ...     ...     ...   \n",
       "436       2       2       2       2       2       2       2       2       2   \n",
       "437      23      18     147      26      23     147      26      24     143   \n",
       "438      10      36     102      13      34      98      17      36      92   \n",
       "439       5       5      11       6       5      14      10       9      20   \n",
       "440      20      36      59      21      37      60      11      27      50   \n",
       "\n",
       "     9       ...  119990  119991  119992  119993  119994  119995  119996  \\\n",
       "0       238  ...     127      78     140     113      75     141     112   \n",
       "1        80  ...      82      88      83      82      88      83      82   \n",
       "2         4  ...      55      32      32      38      10      10      15   \n",
       "3        75  ...       4       0       0       0       1       1       1   \n",
       "4       255  ...      49      13      55      48      12      54      47   \n",
       "..      ...  ...     ...     ...     ...     ...     ...     ...     ...   \n",
       "436       1  ...       3       3       3       3       3       3       3   \n",
       "437      21  ...     217     178     202     219     175     200     216   \n",
       "438      17  ...     100      53      67      88      53      68      83   \n",
       "439      20  ...      55      21      19      56      14      18      44   \n",
       "440      14  ...      24      14      15      25      12      13      23   \n",
       "\n",
       "     119997  119998  119999  \n",
       "0        82     143     114  \n",
       "1        86      81      78  \n",
       "2         2       2       2  \n",
       "3         3       1       0  \n",
       "4        14      55      48  \n",
       "..      ...     ...     ...  \n",
       "436       4       4       4  \n",
       "437     174     201     211  \n",
       "438      52      66      80  \n",
       "439      12      21      41  \n",
       "440      11      12      22  \n",
       "\n",
       "[441 rows x 120000 columns]"
      ]
     },
     "execution_count": 17,
     "metadata": {},
     "output_type": "execute_result"
    }
   ],
   "source": [
    "all_images"
   ]
  },
  {
   "cell_type": "code",
   "execution_count": 18,
   "metadata": {
    "execution": {
     "iopub.execute_input": "2023-04-14T18:54:56.727275Z",
     "iopub.status.busy": "2023-04-14T18:54:56.727022Z",
     "iopub.status.idle": "2023-04-14T18:54:56.767102Z",
     "shell.execute_reply": "2023-04-14T18:54:56.766166Z",
     "shell.execute_reply.started": "2023-04-14T18:54:56.727244Z"
    }
   },
   "outputs": [],
   "source": [
    "#this code add target colomn into data frame\n",
    "all_images['target']=all_labels"
   ]
  },
  {
   "cell_type": "code",
   "execution_count": 19,
   "metadata": {
    "execution": {
     "iopub.execute_input": "2023-04-14T18:54:56.769220Z",
     "iopub.status.busy": "2023-04-14T18:54:56.768442Z",
     "iopub.status.idle": "2023-04-14T18:54:56.802803Z",
     "shell.execute_reply": "2023-04-14T18:54:56.801715Z",
     "shell.execute_reply.started": "2023-04-14T18:54:56.769184Z"
    }
   },
   "outputs": [
    {
     "data": {
      "text/html": [
       "<div>\n",
       "<style scoped>\n",
       "    .dataframe tbody tr th:only-of-type {\n",
       "        vertical-align: middle;\n",
       "    }\n",
       "\n",
       "    .dataframe tbody tr th {\n",
       "        vertical-align: top;\n",
       "    }\n",
       "\n",
       "    .dataframe thead th {\n",
       "        text-align: right;\n",
       "    }\n",
       "</style>\n",
       "<table border=\"1\" class=\"dataframe\">\n",
       "  <thead>\n",
       "    <tr style=\"text-align: right;\">\n",
       "      <th></th>\n",
       "      <th>0</th>\n",
       "      <th>1</th>\n",
       "      <th>2</th>\n",
       "      <th>3</th>\n",
       "      <th>4</th>\n",
       "      <th>5</th>\n",
       "      <th>6</th>\n",
       "      <th>7</th>\n",
       "      <th>8</th>\n",
       "      <th>9</th>\n",
       "      <th>...</th>\n",
       "      <th>119991</th>\n",
       "      <th>119992</th>\n",
       "      <th>119993</th>\n",
       "      <th>119994</th>\n",
       "      <th>119995</th>\n",
       "      <th>119996</th>\n",
       "      <th>119997</th>\n",
       "      <th>119998</th>\n",
       "      <th>119999</th>\n",
       "      <th>target</th>\n",
       "    </tr>\n",
       "  </thead>\n",
       "  <tbody>\n",
       "    <tr>\n",
       "      <th>0</th>\n",
       "      <td>238</td>\n",
       "      <td>250</td>\n",
       "      <td>253</td>\n",
       "      <td>238</td>\n",
       "      <td>250</td>\n",
       "      <td>253</td>\n",
       "      <td>238</td>\n",
       "      <td>250</td>\n",
       "      <td>254</td>\n",
       "      <td>238</td>\n",
       "      <td>...</td>\n",
       "      <td>78</td>\n",
       "      <td>140</td>\n",
       "      <td>113</td>\n",
       "      <td>75</td>\n",
       "      <td>141</td>\n",
       "      <td>112</td>\n",
       "      <td>82</td>\n",
       "      <td>143</td>\n",
       "      <td>114</td>\n",
       "      <td>kane</td>\n",
       "    </tr>\n",
       "    <tr>\n",
       "      <th>1</th>\n",
       "      <td>79</td>\n",
       "      <td>81</td>\n",
       "      <td>81</td>\n",
       "      <td>80</td>\n",
       "      <td>82</td>\n",
       "      <td>82</td>\n",
       "      <td>81</td>\n",
       "      <td>82</td>\n",
       "      <td>82</td>\n",
       "      <td>80</td>\n",
       "      <td>...</td>\n",
       "      <td>88</td>\n",
       "      <td>83</td>\n",
       "      <td>82</td>\n",
       "      <td>88</td>\n",
       "      <td>83</td>\n",
       "      <td>82</td>\n",
       "      <td>86</td>\n",
       "      <td>81</td>\n",
       "      <td>78</td>\n",
       "      <td>kane</td>\n",
       "    </tr>\n",
       "    <tr>\n",
       "      <th>2</th>\n",
       "      <td>4</td>\n",
       "      <td>4</td>\n",
       "      <td>4</td>\n",
       "      <td>4</td>\n",
       "      <td>4</td>\n",
       "      <td>4</td>\n",
       "      <td>4</td>\n",
       "      <td>4</td>\n",
       "      <td>4</td>\n",
       "      <td>4</td>\n",
       "      <td>...</td>\n",
       "      <td>32</td>\n",
       "      <td>32</td>\n",
       "      <td>38</td>\n",
       "      <td>10</td>\n",
       "      <td>10</td>\n",
       "      <td>15</td>\n",
       "      <td>2</td>\n",
       "      <td>2</td>\n",
       "      <td>2</td>\n",
       "      <td>kane</td>\n",
       "    </tr>\n",
       "    <tr>\n",
       "      <th>3</th>\n",
       "      <td>74</td>\n",
       "      <td>30</td>\n",
       "      <td>17</td>\n",
       "      <td>74</td>\n",
       "      <td>30</td>\n",
       "      <td>17</td>\n",
       "      <td>74</td>\n",
       "      <td>30</td>\n",
       "      <td>17</td>\n",
       "      <td>75</td>\n",
       "      <td>...</td>\n",
       "      <td>0</td>\n",
       "      <td>0</td>\n",
       "      <td>0</td>\n",
       "      <td>1</td>\n",
       "      <td>1</td>\n",
       "      <td>1</td>\n",
       "      <td>3</td>\n",
       "      <td>1</td>\n",
       "      <td>0</td>\n",
       "      <td>kane</td>\n",
       "    </tr>\n",
       "    <tr>\n",
       "      <th>4</th>\n",
       "      <td>255</td>\n",
       "      <td>255</td>\n",
       "      <td>255</td>\n",
       "      <td>255</td>\n",
       "      <td>255</td>\n",
       "      <td>255</td>\n",
       "      <td>255</td>\n",
       "      <td>255</td>\n",
       "      <td>255</td>\n",
       "      <td>255</td>\n",
       "      <td>...</td>\n",
       "      <td>13</td>\n",
       "      <td>55</td>\n",
       "      <td>48</td>\n",
       "      <td>12</td>\n",
       "      <td>54</td>\n",
       "      <td>47</td>\n",
       "      <td>14</td>\n",
       "      <td>55</td>\n",
       "      <td>48</td>\n",
       "      <td>kane</td>\n",
       "    </tr>\n",
       "    <tr>\n",
       "      <th>...</th>\n",
       "      <td>...</td>\n",
       "      <td>...</td>\n",
       "      <td>...</td>\n",
       "      <td>...</td>\n",
       "      <td>...</td>\n",
       "      <td>...</td>\n",
       "      <td>...</td>\n",
       "      <td>...</td>\n",
       "      <td>...</td>\n",
       "      <td>...</td>\n",
       "      <td>...</td>\n",
       "      <td>...</td>\n",
       "      <td>...</td>\n",
       "      <td>...</td>\n",
       "      <td>...</td>\n",
       "      <td>...</td>\n",
       "      <td>...</td>\n",
       "      <td>...</td>\n",
       "      <td>...</td>\n",
       "      <td>...</td>\n",
       "      <td>...</td>\n",
       "    </tr>\n",
       "    <tr>\n",
       "      <th>436</th>\n",
       "      <td>2</td>\n",
       "      <td>2</td>\n",
       "      <td>2</td>\n",
       "      <td>2</td>\n",
       "      <td>2</td>\n",
       "      <td>2</td>\n",
       "      <td>2</td>\n",
       "      <td>2</td>\n",
       "      <td>2</td>\n",
       "      <td>1</td>\n",
       "      <td>...</td>\n",
       "      <td>3</td>\n",
       "      <td>3</td>\n",
       "      <td>3</td>\n",
       "      <td>3</td>\n",
       "      <td>3</td>\n",
       "      <td>3</td>\n",
       "      <td>4</td>\n",
       "      <td>4</td>\n",
       "      <td>4</td>\n",
       "      <td>kobe</td>\n",
       "    </tr>\n",
       "    <tr>\n",
       "      <th>437</th>\n",
       "      <td>23</td>\n",
       "      <td>18</td>\n",
       "      <td>147</td>\n",
       "      <td>26</td>\n",
       "      <td>23</td>\n",
       "      <td>147</td>\n",
       "      <td>26</td>\n",
       "      <td>24</td>\n",
       "      <td>143</td>\n",
       "      <td>21</td>\n",
       "      <td>...</td>\n",
       "      <td>178</td>\n",
       "      <td>202</td>\n",
       "      <td>219</td>\n",
       "      <td>175</td>\n",
       "      <td>200</td>\n",
       "      <td>216</td>\n",
       "      <td>174</td>\n",
       "      <td>201</td>\n",
       "      <td>211</td>\n",
       "      <td>kobe</td>\n",
       "    </tr>\n",
       "    <tr>\n",
       "      <th>438</th>\n",
       "      <td>10</td>\n",
       "      <td>36</td>\n",
       "      <td>102</td>\n",
       "      <td>13</td>\n",
       "      <td>34</td>\n",
       "      <td>98</td>\n",
       "      <td>17</td>\n",
       "      <td>36</td>\n",
       "      <td>92</td>\n",
       "      <td>17</td>\n",
       "      <td>...</td>\n",
       "      <td>53</td>\n",
       "      <td>67</td>\n",
       "      <td>88</td>\n",
       "      <td>53</td>\n",
       "      <td>68</td>\n",
       "      <td>83</td>\n",
       "      <td>52</td>\n",
       "      <td>66</td>\n",
       "      <td>80</td>\n",
       "      <td>kobe</td>\n",
       "    </tr>\n",
       "    <tr>\n",
       "      <th>439</th>\n",
       "      <td>5</td>\n",
       "      <td>5</td>\n",
       "      <td>11</td>\n",
       "      <td>6</td>\n",
       "      <td>5</td>\n",
       "      <td>14</td>\n",
       "      <td>10</td>\n",
       "      <td>9</td>\n",
       "      <td>20</td>\n",
       "      <td>20</td>\n",
       "      <td>...</td>\n",
       "      <td>21</td>\n",
       "      <td>19</td>\n",
       "      <td>56</td>\n",
       "      <td>14</td>\n",
       "      <td>18</td>\n",
       "      <td>44</td>\n",
       "      <td>12</td>\n",
       "      <td>21</td>\n",
       "      <td>41</td>\n",
       "      <td>kobe</td>\n",
       "    </tr>\n",
       "    <tr>\n",
       "      <th>440</th>\n",
       "      <td>20</td>\n",
       "      <td>36</td>\n",
       "      <td>59</td>\n",
       "      <td>21</td>\n",
       "      <td>37</td>\n",
       "      <td>60</td>\n",
       "      <td>11</td>\n",
       "      <td>27</td>\n",
       "      <td>50</td>\n",
       "      <td>14</td>\n",
       "      <td>...</td>\n",
       "      <td>14</td>\n",
       "      <td>15</td>\n",
       "      <td>25</td>\n",
       "      <td>12</td>\n",
       "      <td>13</td>\n",
       "      <td>23</td>\n",
       "      <td>11</td>\n",
       "      <td>12</td>\n",
       "      <td>22</td>\n",
       "      <td>kobe</td>\n",
       "    </tr>\n",
       "  </tbody>\n",
       "</table>\n",
       "<p>441 rows × 120001 columns</p>\n",
       "</div>"
      ],
      "text/plain": [
       "       0    1    2    3    4    5    6    7    8    9  ...  119991  119992  \\\n",
       "0    238  250  253  238  250  253  238  250  254  238  ...      78     140   \n",
       "1     79   81   81   80   82   82   81   82   82   80  ...      88      83   \n",
       "2      4    4    4    4    4    4    4    4    4    4  ...      32      32   \n",
       "3     74   30   17   74   30   17   74   30   17   75  ...       0       0   \n",
       "4    255  255  255  255  255  255  255  255  255  255  ...      13      55   \n",
       "..   ...  ...  ...  ...  ...  ...  ...  ...  ...  ...  ...     ...     ...   \n",
       "436    2    2    2    2    2    2    2    2    2    1  ...       3       3   \n",
       "437   23   18  147   26   23  147   26   24  143   21  ...     178     202   \n",
       "438   10   36  102   13   34   98   17   36   92   17  ...      53      67   \n",
       "439    5    5   11    6    5   14   10    9   20   20  ...      21      19   \n",
       "440   20   36   59   21   37   60   11   27   50   14  ...      14      15   \n",
       "\n",
       "     119993  119994  119995  119996  119997  119998  119999  target  \n",
       "0       113      75     141     112      82     143     114    kane  \n",
       "1        82      88      83      82      86      81      78    kane  \n",
       "2        38      10      10      15       2       2       2    kane  \n",
       "3         0       1       1       1       3       1       0    kane  \n",
       "4        48      12      54      47      14      55      48    kane  \n",
       "..      ...     ...     ...     ...     ...     ...     ...     ...  \n",
       "436       3       3       3       3       4       4       4    kobe  \n",
       "437     219     175     200     216     174     201     211    kobe  \n",
       "438      88      53      68      83      52      66      80    kobe  \n",
       "439      56      14      18      44      12      21      41    kobe  \n",
       "440      25      12      13      23      11      12      22    kobe  \n",
       "\n",
       "[441 rows x 120001 columns]"
      ]
     },
     "execution_count": 19,
     "metadata": {},
     "output_type": "execute_result"
    }
   ],
   "source": [
    "all_images"
   ]
  },
  {
   "cell_type": "code",
   "execution_count": 20,
   "metadata": {
    "execution": {
     "iopub.execute_input": "2023-04-14T18:54:56.804571Z",
     "iopub.status.busy": "2023-04-14T18:54:56.804229Z",
     "iopub.status.idle": "2023-04-14T18:54:56.986418Z",
     "shell.execute_reply": "2023-04-14T18:54:56.985608Z",
     "shell.execute_reply.started": "2023-04-14T18:54:56.804527Z"
    }
   },
   "outputs": [],
   "source": [
    "X=all_images.drop('target',axis=1)\n",
    "y=all_images['target']"
   ]
  },
  {
   "cell_type": "code",
   "execution_count": 21,
   "metadata": {
    "execution": {
     "iopub.execute_input": "2023-04-14T18:54:56.988009Z",
     "iopub.status.busy": "2023-04-14T18:54:56.987701Z",
     "iopub.status.idle": "2023-04-14T18:54:56.994010Z",
     "shell.execute_reply": "2023-04-14T18:54:56.993185Z",
     "shell.execute_reply.started": "2023-04-14T18:54:56.987971Z"
    }
   },
   "outputs": [],
   "source": [
    "y=pd.DataFrame(y)"
   ]
  },
  {
   "cell_type": "code",
   "execution_count": 22,
   "metadata": {
    "execution": {
     "iopub.execute_input": "2023-04-14T18:54:56.995952Z",
     "iopub.status.busy": "2023-04-14T18:54:56.995536Z",
     "iopub.status.idle": "2023-04-14T18:54:57.015497Z",
     "shell.execute_reply": "2023-04-14T18:54:57.014553Z",
     "shell.execute_reply.started": "2023-04-14T18:54:56.995912Z"
    }
   },
   "outputs": [],
   "source": [
    "\n",
    "y=pd.get_dummies(y)"
   ]
  },
  {
   "cell_type": "code",
   "execution_count": 23,
   "metadata": {
    "execution": {
     "iopub.execute_input": "2023-04-14T18:54:57.018134Z",
     "iopub.status.busy": "2023-04-14T18:54:57.017113Z",
     "iopub.status.idle": "2023-04-14T18:54:57.035828Z",
     "shell.execute_reply": "2023-04-14T18:54:57.034968Z",
     "shell.execute_reply.started": "2023-04-14T18:54:57.018088Z"
    }
   },
   "outputs": [
    {
     "data": {
      "text/html": [
       "<div>\n",
       "<style scoped>\n",
       "    .dataframe tbody tr th:only-of-type {\n",
       "        vertical-align: middle;\n",
       "    }\n",
       "\n",
       "    .dataframe tbody tr th {\n",
       "        vertical-align: top;\n",
       "    }\n",
       "\n",
       "    .dataframe thead th {\n",
       "        text-align: right;\n",
       "    }\n",
       "</style>\n",
       "<table border=\"1\" class=\"dataframe\">\n",
       "  <thead>\n",
       "    <tr style=\"text-align: right;\">\n",
       "      <th></th>\n",
       "      <th>target_Sharapova</th>\n",
       "      <th>target_kane</th>\n",
       "      <th>target_kobe</th>\n",
       "      <th>target_ronaldo</th>\n",
       "    </tr>\n",
       "  </thead>\n",
       "  <tbody>\n",
       "    <tr>\n",
       "      <th>0</th>\n",
       "      <td>0</td>\n",
       "      <td>1</td>\n",
       "      <td>0</td>\n",
       "      <td>0</td>\n",
       "    </tr>\n",
       "    <tr>\n",
       "      <th>1</th>\n",
       "      <td>0</td>\n",
       "      <td>1</td>\n",
       "      <td>0</td>\n",
       "      <td>0</td>\n",
       "    </tr>\n",
       "    <tr>\n",
       "      <th>2</th>\n",
       "      <td>0</td>\n",
       "      <td>1</td>\n",
       "      <td>0</td>\n",
       "      <td>0</td>\n",
       "    </tr>\n",
       "    <tr>\n",
       "      <th>3</th>\n",
       "      <td>0</td>\n",
       "      <td>1</td>\n",
       "      <td>0</td>\n",
       "      <td>0</td>\n",
       "    </tr>\n",
       "    <tr>\n",
       "      <th>4</th>\n",
       "      <td>0</td>\n",
       "      <td>1</td>\n",
       "      <td>0</td>\n",
       "      <td>0</td>\n",
       "    </tr>\n",
       "    <tr>\n",
       "      <th>...</th>\n",
       "      <td>...</td>\n",
       "      <td>...</td>\n",
       "      <td>...</td>\n",
       "      <td>...</td>\n",
       "    </tr>\n",
       "    <tr>\n",
       "      <th>436</th>\n",
       "      <td>0</td>\n",
       "      <td>0</td>\n",
       "      <td>1</td>\n",
       "      <td>0</td>\n",
       "    </tr>\n",
       "    <tr>\n",
       "      <th>437</th>\n",
       "      <td>0</td>\n",
       "      <td>0</td>\n",
       "      <td>1</td>\n",
       "      <td>0</td>\n",
       "    </tr>\n",
       "    <tr>\n",
       "      <th>438</th>\n",
       "      <td>0</td>\n",
       "      <td>0</td>\n",
       "      <td>1</td>\n",
       "      <td>0</td>\n",
       "    </tr>\n",
       "    <tr>\n",
       "      <th>439</th>\n",
       "      <td>0</td>\n",
       "      <td>0</td>\n",
       "      <td>1</td>\n",
       "      <td>0</td>\n",
       "    </tr>\n",
       "    <tr>\n",
       "      <th>440</th>\n",
       "      <td>0</td>\n",
       "      <td>0</td>\n",
       "      <td>1</td>\n",
       "      <td>0</td>\n",
       "    </tr>\n",
       "  </tbody>\n",
       "</table>\n",
       "<p>441 rows × 4 columns</p>\n",
       "</div>"
      ],
      "text/plain": [
       "     target_Sharapova  target_kane  target_kobe  target_ronaldo\n",
       "0                   0            1            0               0\n",
       "1                   0            1            0               0\n",
       "2                   0            1            0               0\n",
       "3                   0            1            0               0\n",
       "4                   0            1            0               0\n",
       "..                ...          ...          ...             ...\n",
       "436                 0            0            1               0\n",
       "437                 0            0            1               0\n",
       "438                 0            0            1               0\n",
       "439                 0            0            1               0\n",
       "440                 0            0            1               0\n",
       "\n",
       "[441 rows x 4 columns]"
      ]
     },
     "execution_count": 23,
     "metadata": {},
     "output_type": "execute_result"
    }
   ],
   "source": [
    "y"
   ]
  },
  {
   "cell_type": "code",
   "execution_count": 24,
   "metadata": {
    "execution": {
     "iopub.execute_input": "2023-04-14T18:54:57.037559Z",
     "iopub.status.busy": "2023-04-14T18:54:57.037159Z",
     "iopub.status.idle": "2023-04-14T18:54:57.145470Z",
     "shell.execute_reply": "2023-04-14T18:54:57.144517Z",
     "shell.execute_reply.started": "2023-04-14T18:54:57.037525Z"
    }
   },
   "outputs": [],
   "source": [
    "#splitting into train and test data\n",
    "X_train, X_test, y_train, y_test = train_test_split(X, y, test_size=0.3, random_state=42)"
   ]
  },
  {
   "cell_type": "code",
   "execution_count": 25,
   "metadata": {
    "execution": {
     "iopub.execute_input": "2023-04-14T18:54:57.147041Z",
     "iopub.status.busy": "2023-04-14T18:54:57.146817Z",
     "iopub.status.idle": "2023-04-14T18:54:57.151020Z",
     "shell.execute_reply": "2023-04-14T18:54:57.150464Z",
     "shell.execute_reply.started": "2023-04-14T18:54:57.147014Z"
    }
   },
   "outputs": [],
   "source": [
    "X_train=X_train.to_numpy()\n",
    "X_train = np.reshape(X_train, (308,200,200,3))"
   ]
  },
  {
   "cell_type": "code",
   "execution_count": 26,
   "metadata": {
    "execution": {
     "iopub.execute_input": "2023-04-14T18:54:57.152571Z",
     "iopub.status.busy": "2023-04-14T18:54:57.152350Z",
     "iopub.status.idle": "2023-04-14T18:54:57.165125Z",
     "shell.execute_reply": "2023-04-14T18:54:57.164225Z",
     "shell.execute_reply.started": "2023-04-14T18:54:57.152544Z"
    }
   },
   "outputs": [],
   "source": [
    "X_test=X_test.to_numpy()\n",
    "X_test=np.reshape(X_test,(133,200,200,3))"
   ]
  },
  {
   "cell_type": "code",
   "execution_count": 27,
   "metadata": {
    "execution": {
     "iopub.execute_input": "2023-04-14T18:54:57.167290Z",
     "iopub.status.busy": "2023-04-14T18:54:57.166963Z",
     "iopub.status.idle": "2023-04-14T18:54:57.177149Z",
     "shell.execute_reply": "2023-04-14T18:54:57.176039Z",
     "shell.execute_reply.started": "2023-04-14T18:54:57.167245Z"
    }
   },
   "outputs": [],
   "source": [
    "y_train=y_train.to_numpy()\n",
    "y_test=y_test.to_numpy()"
   ]
  },
  {
   "cell_type": "code",
   "execution_count": 28,
   "metadata": {
    "execution": {
     "iopub.execute_input": "2023-04-14T18:54:57.178781Z",
     "iopub.status.busy": "2023-04-14T18:54:57.178525Z",
     "iopub.status.idle": "2023-04-14T18:54:57.207378Z",
     "shell.execute_reply": "2023-04-14T18:54:57.206523Z",
     "shell.execute_reply.started": "2023-04-14T18:54:57.178740Z"
    }
   },
   "outputs": [],
   "source": [
    "x_train,x_val,y_train,y_val = train_test_split(X_train,y_train,random_state=1)"
   ]
  },
  {
   "cell_type": "code",
   "execution_count": 29,
   "metadata": {
    "execution": {
     "iopub.execute_input": "2023-04-14T18:54:57.211033Z",
     "iopub.status.busy": "2023-04-14T18:54:57.210781Z",
     "iopub.status.idle": "2023-04-14T18:54:57.417523Z",
     "shell.execute_reply": "2023-04-14T18:54:57.416595Z",
     "shell.execute_reply.started": "2023-04-14T18:54:57.211004Z"
    }
   },
   "outputs": [
    {
     "name": "stderr",
     "output_type": "stream",
     "text": [
      "\n",
      "User settings:\n",
      "\n",
      "   KMP_AFFINITY=granularity=fine,verbose,compact,1,0\n",
      "   KMP_BLOCKTIME=0\n",
      "   KMP_DUPLICATE_LIB_OK=True\n",
      "   KMP_INIT_AT_FORK=FALSE\n",
      "   KMP_SETTINGS=1\n",
      "   KMP_WARNINGS=0\n",
      "\n",
      "Effective settings:\n",
      "\n",
      "   KMP_ABORT_DELAY=0\n",
      "   KMP_ADAPTIVE_LOCK_PROPS='1,1024'\n",
      "   KMP_ALIGN_ALLOC=64\n",
      "   KMP_ALL_THREADPRIVATE=128\n",
      "   KMP_ATOMIC_MODE=2\n",
      "   KMP_BLOCKTIME=0\n",
      "   KMP_CPUINFO_FILE: value is not defined\n",
      "   KMP_DETERMINISTIC_REDUCTION=false\n",
      "   KMP_DEVICE_THREAD_LIMIT=2147483647\n",
      "   KMP_DISP_NUM_BUFFERS=7\n",
      "   KMP_DUPLICATE_LIB_OK=true\n",
      "   KMP_ENABLE_TASK_THROTTLING=true\n",
      "   KMP_FORCE_REDUCTION: value is not defined\n",
      "   KMP_FOREIGN_THREADS_THREADPRIVATE=true\n",
      "   KMP_FORKJOIN_BARRIER='2,2'\n",
      "   KMP_FORKJOIN_BARRIER_PATTERN='hyper,hyper'\n",
      "   KMP_GTID_MODE=3\n",
      "   KMP_HANDLE_SIGNALS=false\n",
      "   KMP_HOT_TEAMS_MAX_LEVEL=1\n",
      "   KMP_HOT_TEAMS_MODE=0\n",
      "   KMP_INIT_AT_FORK=true\n",
      "   KMP_LIBRARY=throughput\n",
      "   KMP_LOCK_KIND=queuing\n",
      "   KMP_MALLOC_POOL_INCR=1M\n",
      "   KMP_NUM_LOCKS_IN_BLOCK=1\n",
      "   KMP_PLAIN_BARRIER='2,2'\n",
      "   KMP_PLAIN_BARRIER_PATTERN='hyper,hyper'\n",
      "   KMP_REDUCTION_BARRIER='1,1'\n",
      "   KMP_REDUCTION_BARRIER_PATTERN='hyper,hyper'\n",
      "   KMP_SCHEDULE='static,balanced;guided,iterative'\n",
      "   KMP_SETTINGS=true\n",
      "   KMP_SPIN_BACKOFF_PARAMS='4096,100'\n",
      "   KMP_STACKOFFSET=64\n",
      "   KMP_STACKPAD=0\n",
      "   KMP_STACKSIZE=8M\n",
      "   KMP_STORAGE_MAP=false\n",
      "   KMP_TASKING=2\n",
      "   KMP_TASKLOOP_MIN_TASKS=0\n",
      "   KMP_TASK_STEALING_CONSTRAINT=1\n",
      "   KMP_TEAMS_THREAD_LIMIT=4\n",
      "   KMP_TOPOLOGY_METHOD=all\n",
      "   KMP_USE_YIELD=1\n",
      "   KMP_VERSION=false\n",
      "   KMP_WARNINGS=false\n",
      "   OMP_AFFINITY_FORMAT='OMP: pid %P tid %i thread %n bound to OS proc set {%A}'\n",
      "   OMP_ALLOCATOR=omp_default_mem_alloc\n",
      "   OMP_CANCELLATION=false\n",
      "   OMP_DEFAULT_DEVICE=0\n",
      "   OMP_DISPLAY_AFFINITY=false\n",
      "   OMP_DISPLAY_ENV=false\n",
      "   OMP_DYNAMIC=false\n",
      "   OMP_MAX_ACTIVE_LEVELS=1\n",
      "   OMP_MAX_TASK_PRIORITY=0\n",
      "   OMP_NESTED: deprecated; max-active-levels-var=1\n",
      "   OMP_NUM_THREADS: value is not defined\n",
      "   OMP_PLACES: value is not defined\n",
      "   OMP_PROC_BIND='intel'\n",
      "   OMP_SCHEDULE='static'\n",
      "   OMP_STACKSIZE=8M\n",
      "   OMP_TARGET_OFFLOAD=DEFAULT\n",
      "   OMP_THREAD_LIMIT=2147483647\n",
      "   OMP_WAIT_POLICY=PASSIVE\n",
      "   KMP_AFFINITY='verbose,warnings,respect,granularity=fine,compact,1,0'\n",
      "\n"
     ]
    }
   ],
   "source": [
    "#convolutional neural network (CNN) model for image classification\n",
    "model= Sequential()\n",
    "#first layer is a 2D convolutional layer with a filter size of 32 and a kernel size of (3,3). \n",
    "model.add(Conv2D(kernel_size=(3,3), filters=32, activation='tanh', input_shape=(200,200,3,)))\n",
    "# second layer is another 2D convolutional layer with a filter size of 30 and a kernel size of (3,3). The activation function used is also 'tanh'.\n",
    "model.add(Conv2D(filters=30,kernel_size = (3,3),activation='tanh'))\n",
    "# third layer is a max pooling layer with a pool size of (2,2).\n",
    "model.add(MaxPool2D(2,2))\n",
    "# fourth layer is another 2D convolutional layer with a filter size of 30 and a kernel size of (3,3). The activation function used is still 'tanh'.\n",
    "model.add(Conv2D(filters=30,kernel_size = (3,3),activation='tanh'))\n",
    "# fifth layer is another max pooling layer with a pool size of (2,2).\n",
    "model.add(MaxPool2D(2,2))\n",
    "#sixth layer is another 2D convolutional layer with a filter size of 30 and a kernel size of (3,3). The activation function used is still 'tanh'.\n",
    "model.add(Conv2D(filters=30,kernel_size = (3,3),activation='tanh'))\n",
    "#seventh layer is a flatten layer that flattens the output from the previous layer into a 1D array.\n",
    "model.add(Flatten())\n",
    "#eighth layer is a fully connected layer with 20 neurons and a ReLU activation function.\n",
    "model.add(Dense(20,activation='relu'))\n",
    "#ninth layer is another fully connected layer with 15 neurons and a ReLU activation function.\n",
    "model.add(Dense(15,activation='relu'))\n",
    "#final layer is a fully connected layer with 4 neurons and a softmax activation function.\n",
    "model.add(Dense(4,activation = 'softmax'))\n",
    "#model is compiled with a categorical crossentropy loss function, accuracy as a metric, and the Adam optimizer.   \n",
    "model.compile(\n",
    "              loss='categorical_crossentropy', \n",
    "              metrics=['acc'],\n",
    "              optimizer='adam'\n",
    "             )"
   ]
  },
  {
   "cell_type": "code",
   "execution_count": 30,
   "metadata": {
    "execution": {
     "iopub.execute_input": "2023-04-14T18:54:57.419148Z",
     "iopub.status.busy": "2023-04-14T18:54:57.418831Z",
     "iopub.status.idle": "2023-04-14T18:54:57.429037Z",
     "shell.execute_reply": "2023-04-14T18:54:57.428211Z",
     "shell.execute_reply.started": "2023-04-14T18:54:57.419099Z"
    }
   },
   "outputs": [
    {
     "name": "stdout",
     "output_type": "stream",
     "text": [
      "Model: \"sequential\"\n",
      "_________________________________________________________________\n",
      "Layer (type)                 Output Shape              Param #   \n",
      "=================================================================\n",
      "conv2d (Conv2D)              (None, 198, 198, 32)      896       \n",
      "_________________________________________________________________\n",
      "conv2d_1 (Conv2D)            (None, 196, 196, 30)      8670      \n",
      "_________________________________________________________________\n",
      "max_pooling2d (MaxPooling2D) (None, 98, 98, 30)        0         \n",
      "_________________________________________________________________\n",
      "conv2d_2 (Conv2D)            (None, 96, 96, 30)        8130      \n",
      "_________________________________________________________________\n",
      "max_pooling2d_1 (MaxPooling2 (None, 48, 48, 30)        0         \n",
      "_________________________________________________________________\n",
      "conv2d_3 (Conv2D)            (None, 46, 46, 30)        8130      \n",
      "_________________________________________________________________\n",
      "flatten (Flatten)            (None, 63480)             0         \n",
      "_________________________________________________________________\n",
      "dense (Dense)                (None, 20)                1269620   \n",
      "_________________________________________________________________\n",
      "dense_1 (Dense)              (None, 15)                315       \n",
      "_________________________________________________________________\n",
      "dense_2 (Dense)              (None, 4)                 64        \n",
      "=================================================================\n",
      "Total params: 1,295,825\n",
      "Trainable params: 1,295,825\n",
      "Non-trainable params: 0\n",
      "_________________________________________________________________\n"
     ]
    }
   ],
   "source": [
    "model.summary()"
   ]
  },
  {
   "cell_type": "code",
   "execution_count": 31,
   "metadata": {
    "execution": {
     "iopub.execute_input": "2023-04-14T18:54:57.433067Z",
     "iopub.status.busy": "2023-04-14T18:54:57.432054Z",
     "iopub.status.idle": "2023-04-14T19:02:57.382723Z",
     "shell.execute_reply": "2023-04-14T19:02:57.381625Z",
     "shell.execute_reply.started": "2023-04-14T18:54:57.433024Z"
    }
   },
   "outputs": [
    {
     "name": "stdout",
     "output_type": "stream",
     "text": [
      "Epoch 1/50\n",
      "5/5 [==============================] - 10s 2s/step - loss: 5.8288 - acc: 0.2944 - val_loss: 11.3072 - val_acc: 0.2468\n",
      "Epoch 2/50\n",
      "5/5 [==============================] - 9s 2s/step - loss: 5.6314 - acc: 0.2857 - val_loss: 4.6928 - val_acc: 0.2208\n",
      "Epoch 3/50\n",
      "5/5 [==============================] - 9s 2s/step - loss: 2.4676 - acc: 0.3160 - val_loss: 1.8231 - val_acc: 0.2987\n",
      "Epoch 4/50\n",
      "5/5 [==============================] - 9s 2s/step - loss: 1.7402 - acc: 0.3550 - val_loss: 1.4015 - val_acc: 0.3636\n",
      "Epoch 5/50\n",
      "5/5 [==============================] - 9s 2s/step - loss: 1.2159 - acc: 0.4242 - val_loss: 1.6686 - val_acc: 0.2727\n",
      "Epoch 6/50\n",
      "5/5 [==============================] - 9s 2s/step - loss: 1.2339 - acc: 0.4459 - val_loss: 1.2403 - val_acc: 0.3766\n",
      "Epoch 7/50\n",
      "5/5 [==============================] - 9s 2s/step - loss: 1.1432 - acc: 0.5498 - val_loss: 1.2823 - val_acc: 0.4026\n",
      "Epoch 8/50\n",
      "5/5 [==============================] - 9s 2s/step - loss: 0.9942 - acc: 0.6017 - val_loss: 1.3106 - val_acc: 0.4675\n",
      "Epoch 9/50\n",
      "5/5 [==============================] - 10s 2s/step - loss: 0.8492 - acc: 0.6407 - val_loss: 1.1930 - val_acc: 0.4675\n",
      "Epoch 10/50\n",
      "5/5 [==============================] - 10s 2s/step - loss: 0.7252 - acc: 0.7792 - val_loss: 1.2069 - val_acc: 0.4935\n",
      "Epoch 11/50\n",
      "5/5 [==============================] - 10s 2s/step - loss: 0.6780 - acc: 0.7922 - val_loss: 1.1417 - val_acc: 0.4935\n",
      "Epoch 12/50\n",
      "5/5 [==============================] - 10s 2s/step - loss: 0.5764 - acc: 0.8442 - val_loss: 1.1349 - val_acc: 0.5584\n",
      "Epoch 13/50\n",
      "5/5 [==============================] - 10s 2s/step - loss: 0.5736 - acc: 0.8398 - val_loss: 1.1307 - val_acc: 0.5974\n",
      "Epoch 14/50\n",
      "5/5 [==============================] - 10s 2s/step - loss: 0.4621 - acc: 0.9048 - val_loss: 1.1062 - val_acc: 0.5195\n",
      "Epoch 15/50\n",
      "5/5 [==============================] - 10s 2s/step - loss: 0.4115 - acc: 0.9177 - val_loss: 1.2047 - val_acc: 0.5325\n",
      "Epoch 16/50\n",
      "5/5 [==============================] - 10s 2s/step - loss: 0.3554 - acc: 0.9394 - val_loss: 1.1568 - val_acc: 0.5065\n",
      "Epoch 17/50\n",
      "5/5 [==============================] - 10s 2s/step - loss: 0.2971 - acc: 0.9524 - val_loss: 1.1814 - val_acc: 0.5844\n",
      "Epoch 18/50\n",
      "5/5 [==============================] - 10s 2s/step - loss: 0.2510 - acc: 0.9827 - val_loss: 1.1294 - val_acc: 0.5325\n",
      "Epoch 19/50\n",
      "5/5 [==============================] - 10s 2s/step - loss: 0.2188 - acc: 0.9784 - val_loss: 1.1338 - val_acc: 0.5584\n",
      "Epoch 20/50\n",
      "5/5 [==============================] - 9s 2s/step - loss: 0.1906 - acc: 0.9827 - val_loss: 1.1869 - val_acc: 0.5455\n",
      "Epoch 21/50\n",
      "5/5 [==============================] - 10s 2s/step - loss: 0.1651 - acc: 0.9827 - val_loss: 1.2439 - val_acc: 0.5714\n",
      "Epoch 22/50\n",
      "5/5 [==============================] - 10s 2s/step - loss: 0.1486 - acc: 0.9827 - val_loss: 1.2941 - val_acc: 0.5714\n",
      "Epoch 23/50\n",
      "5/5 [==============================] - 10s 2s/step - loss: 0.1339 - acc: 0.9870 - val_loss: 1.2269 - val_acc: 0.5455\n",
      "Epoch 24/50\n",
      "5/5 [==============================] - 10s 2s/step - loss: 0.1208 - acc: 0.9870 - val_loss: 1.2468 - val_acc: 0.5714\n",
      "Epoch 25/50\n",
      "5/5 [==============================] - 10s 2s/step - loss: 0.1106 - acc: 0.9870 - val_loss: 1.3037 - val_acc: 0.5974\n",
      "Epoch 26/50\n",
      "5/5 [==============================] - 10s 2s/step - loss: 0.1018 - acc: 0.9870 - val_loss: 1.3999 - val_acc: 0.5584\n",
      "Epoch 27/50\n",
      "5/5 [==============================] - 10s 2s/step - loss: 0.0897 - acc: 0.9913 - val_loss: 1.3657 - val_acc: 0.5714\n",
      "Epoch 28/50\n",
      "5/5 [==============================] - 10s 2s/step - loss: 0.0780 - acc: 0.9913 - val_loss: 1.4304 - val_acc: 0.5455\n",
      "Epoch 29/50\n",
      "5/5 [==============================] - 10s 2s/step - loss: 0.0712 - acc: 0.9957 - val_loss: 1.4202 - val_acc: 0.5584\n",
      "Epoch 30/50\n",
      "5/5 [==============================] - 10s 2s/step - loss: 0.0619 - acc: 0.9913 - val_loss: 1.4241 - val_acc: 0.5584\n",
      "Epoch 31/50\n",
      "5/5 [==============================] - 10s 2s/step - loss: 0.0555 - acc: 0.9957 - val_loss: 1.5512 - val_acc: 0.5455\n",
      "Epoch 32/50\n",
      "5/5 [==============================] - 11s 2s/step - loss: 0.0475 - acc: 0.9957 - val_loss: 1.5657 - val_acc: 0.5455\n",
      "Epoch 33/50\n",
      "5/5 [==============================] - 9s 2s/step - loss: 0.0431 - acc: 0.9957 - val_loss: 1.5964 - val_acc: 0.5714\n",
      "Epoch 34/50\n",
      "5/5 [==============================] - 10s 2s/step - loss: 0.0389 - acc: 0.9957 - val_loss: 1.5953 - val_acc: 0.5584\n",
      "Epoch 35/50\n",
      "5/5 [==============================] - 10s 2s/step - loss: 0.0349 - acc: 0.9957 - val_loss: 1.6263 - val_acc: 0.5455\n",
      "Epoch 36/50\n",
      "5/5 [==============================] - 9s 2s/step - loss: 0.0317 - acc: 0.9957 - val_loss: 1.6278 - val_acc: 0.5584\n",
      "Epoch 37/50\n",
      "5/5 [==============================] - 9s 2s/step - loss: 0.0288 - acc: 0.9957 - val_loss: 1.6684 - val_acc: 0.5584\n",
      "Epoch 38/50\n",
      "5/5 [==============================] - 10s 2s/step - loss: 0.0276 - acc: 1.0000 - val_loss: 1.5976 - val_acc: 0.5714\n",
      "Epoch 39/50\n",
      "5/5 [==============================] - 9s 2s/step - loss: 0.0258 - acc: 1.0000 - val_loss: 1.6338 - val_acc: 0.5714\n",
      "Epoch 40/50\n",
      "5/5 [==============================] - 9s 2s/step - loss: 0.0259 - acc: 1.0000 - val_loss: 1.6633 - val_acc: 0.5714\n",
      "Epoch 41/50\n",
      "5/5 [==============================] - 9s 2s/step - loss: 0.0240 - acc: 1.0000 - val_loss: 1.6542 - val_acc: 0.5714\n",
      "Epoch 42/50\n",
      "5/5 [==============================] - 10s 2s/step - loss: 0.0194 - acc: 1.0000 - val_loss: 1.7442 - val_acc: 0.5584\n",
      "Epoch 43/50\n",
      "5/5 [==============================] - 9s 2s/step - loss: 0.0163 - acc: 1.0000 - val_loss: 1.6401 - val_acc: 0.5714\n",
      "Epoch 44/50\n",
      "5/5 [==============================] - 10s 2s/step - loss: 0.0165 - acc: 1.0000 - val_loss: 1.6969 - val_acc: 0.5584\n",
      "Epoch 45/50\n",
      "5/5 [==============================] - 10s 2s/step - loss: 0.0143 - acc: 1.0000 - val_loss: 1.7675 - val_acc: 0.5455\n",
      "Epoch 46/50\n",
      "5/5 [==============================] - 9s 2s/step - loss: 0.0134 - acc: 1.0000 - val_loss: 1.7123 - val_acc: 0.5714\n",
      "Epoch 47/50\n",
      "5/5 [==============================] - 9s 2s/step - loss: 0.0125 - acc: 1.0000 - val_loss: 1.7158 - val_acc: 0.5714\n",
      "Epoch 48/50\n",
      "5/5 [==============================] - 10s 2s/step - loss: 0.0113 - acc: 1.0000 - val_loss: 1.7631 - val_acc: 0.5714\n",
      "Epoch 49/50\n",
      "5/5 [==============================] - 9s 2s/step - loss: 0.0108 - acc: 1.0000 - val_loss: 1.7279 - val_acc: 0.5714\n",
      "Epoch 50/50\n",
      "5/5 [==============================] - 9s 2s/step - loss: 0.0102 - acc: 1.0000 - val_loss: 1.7230 - val_acc: 0.5714\n"
     ]
    }
   ],
   "source": [
    "#This code trains the model on the training data (x_train, y_train) for 50 epochs with a batch size of 50.\n",
    "history = model.fit(x_train,y_train,epochs=50,batch_size=50,validation_data=(x_val,y_val))"
   ]
  },
  {
   "cell_type": "code",
   "execution_count": 32,
   "metadata": {
    "execution": {
     "iopub.execute_input": "2023-04-14T19:02:57.384608Z",
     "iopub.status.busy": "2023-04-14T19:02:57.384289Z",
     "iopub.status.idle": "2023-04-14T19:02:57.589377Z",
     "shell.execute_reply": "2023-04-14T19:02:57.588273Z",
     "shell.execute_reply.started": "2023-04-14T19:02:57.384572Z"
    }
   },
   "outputs": [
    {
     "data": {
      "image/png": "[encoded data removed]",
      "text/plain": [
       "<Figure size 432x288 with 1 Axes>"
      ]
     },
     "metadata": {
      "needs_background": "light"
     },
     "output_type": "display_data"
    }
   ],
   "source": [
    "plt.plot(history.history['acc'])\n",
    "plt.plot(history.history['val_acc'])\n",
    "plt.title('model accuracy')\n",
    "plt.ylabel('accuracy')\n",
    "plt.xlabel('epoch')\n",
    "plt.legend(['train', 'test'], loc='upper left')\n",
    "plt.show()"
   ]
  },
  {
   "cell_type": "code",
   "execution_count": 33,
   "metadata": {
    "execution": {
     "iopub.execute_input": "2023-04-14T19:02:57.591393Z",
     "iopub.status.busy": "2023-04-14T19:02:57.591039Z",
     "iopub.status.idle": "2023-04-14T19:02:57.791816Z",
     "shell.execute_reply": "2023-04-14T19:02:57.790695Z",
     "shell.execute_reply.started": "2023-04-14T19:02:57.591347Z"
    }
   },
   "outputs": [
    {
     "data": {
      "image/png": "[encoded data removed]",
      "text/plain": [
       "<Figure size 432x288 with 1 Axes>"
      ]
     },
     "metadata": {
      "needs_background": "light"
     },
     "output_type": "display_data"
    }
   ],
   "source": [
    "plt.plot(history.history['loss'])\n",
    "plt.plot(history.history['val_loss'])\n",
    "plt.title('model loss')\n",
    "plt.ylabel('loss')\n",
    "plt.xlabel('epoch')\n",
    "plt.legend(['train', 'test'], loc='upper left')\n",
    "plt.show()"
   ]
  },
  {
   "cell_type": "code",
   "execution_count": 34,
   "metadata": {
    "execution": {
     "iopub.execute_input": "2023-04-14T19:02:57.793988Z",
     "iopub.status.busy": "2023-04-14T19:02:57.793676Z",
     "iopub.status.idle": "2023-04-14T19:02:58.605489Z",
     "shell.execute_reply": "2023-04-14T19:02:58.604178Z",
     "shell.execute_reply.started": "2023-04-14T19:02:57.793951Z"
    }
   },
   "outputs": [
    {
     "name": "stdout",
     "output_type": "stream",
     "text": [
      "3/3 [==============================] - 1s 212ms/step - loss: 1.7230 - acc: 0.5714\n",
      "[1.7229970693588257, 0.5714285969734192]\n"
     ]
    }
   ],
   "source": [
    "evaluate = model.evaluate(x_val,y_val)\n",
    "print(evaluate)"
   ]
  },
  {
   "cell_type": "code",
   "execution_count": null,
   "metadata": {},
   "outputs": [],
   "source": []
  }
 ],
 "metadata": {
  "kernelspec": {
   "display_name": "Python 3 (ipykernel)",
   "language": "python",
   "name": "python3"
  },
  "language_info": {
   "codemirror_mode": {
    "name": "ipython",
    "version": 3
   },
   "file_extension": ".py",
   "mimetype": "text/x-python",
   "name": "python",
   "nbconvert_exporter": "python",
   "pygments_lexer": "ipython3",
   "version": "3.9.13"
  }
 },
 "nbformat": 4,
 "nbformat_minor": 4
}
